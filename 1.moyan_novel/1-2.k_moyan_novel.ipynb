{
 "cells": [
  {
   "cell_type": "markdown",
   "metadata": {},
   "source": [
    "# 利用lstm进行生成莫言小说——keras实现方法\n",
    "**注：该项目提供了keras建模的示例，除模型构建外，其余部分相同**\n",
    "## 1. 项目背景\n",
    "这个项目是建立一个能够自动生成一片文章的深度学习模型，我们可以通过给出钱几个字就自动生成一篇文章的模型。\n",
    "\n",
    "## 2. 项目数据\n",
    "项目数据使用了莫言小说《生死疲劳》，内容如下："
   ]
  },
  {
   "cell_type": "code",
   "execution_count": 1,
   "metadata": {},
   "outputs": [
    {
     "name": "stdout",
     "output_type": "stream",
     "text": [
      "　　我的故事，从1950年1月1日讲起。在此之前两年多的时间里，我在阴曹地府里受尽了人间难以想象的 酷刑。每次提审，我都会鸣冤叫屈。我的声音悲壮凄凉，传播到阎罗大殿的每个角落，激发出重重叠叠的 回声。我身受酷刑而绝不改悔，挣得了一个硬汉子的名声。我知道许多鬼卒对我暗中钦佩，我也知道阎王 老子对我不胜厌烦。为了让我认罪服输，他们使出了地狱酷刑中最歹毒的一招，将我扔到沸腾的油锅里， 翻来覆去，像炸(又鸟)一样炸了半个时辰，痛苦之状，难以言表。鬼卒还用叉子把我叉起来，高高举着， 一步步走上通往大殿的台阶。两边的鬼卒嘬口吹哨，如同成群的吸血蝙蝠鸣叫。我的身体滴油淅沥，落在 台阶上，冒出一簇簇黄烟……鬼卒小心翼翼地将我安放在阎罗殿前的青石板上，跪下向阎王报告：“大王 ，炸好了。”\n",
      "\n"
     ]
    }
   ],
   "source": [
    "# ========读取原始数据========\n",
    "with open('data.txt', 'r', encoding='utf-8') as f:\n",
    "    data = f.readlines()\n",
    "print(data[0])"
   ]
  },
  {
   "cell_type": "markdown",
   "metadata": {},
   "source": [
    "## 3. 数据处理\n",
    "### 3.1数据清洗\n",
    "**首先需要将括号里的内容删除掉。**"
   ]
  },
  {
   "cell_type": "code",
   "execution_count": 2,
   "metadata": {},
   "outputs": [
    {
     "name": "stdout",
     "output_type": "stream",
     "text": [
      "　　我的故事，从1950年1月1日讲起。在此之前两年多的时间里，我在阴曹地府里受尽了人间难以想象的 酷刑。每次提审，我都会鸣冤叫屈。我的声音悲壮凄凉，传播到阎罗大殿的每个角落，激发出重重叠叠的 回声。我身受酷刑而绝不改悔，挣得了一个硬汉子的名声。我知道许多鬼卒对我暗中钦佩，我也知道阎王 老子对我不胜厌烦。为了让我认罪服输，他们使出了地狱酷刑中最歹毒的一招，将我扔到沸腾的油锅里， 翻来覆去，像炸一样炸了半个时辰，痛苦之状，难以言表。鬼卒还用叉子把我叉起来，高高举着， 一步步走上通往大殿的台阶。两边的鬼卒嘬口吹哨，如同成群的吸血蝙蝠鸣叫。我的身体滴油淅沥，落在 台阶上，冒出一簇簇黄烟……鬼卒小心翼翼地将我安放在阎罗殿前的青石板上，跪下向阎王报告：“大王 ，炸好了。”\n",
      "\n"
     ]
    }
   ],
   "source": [
    "import re\n",
    "# 生成一个正则，负责找'()'包含的内容\n",
    "pattern = re.compile(r'\\(.*\\)')\n",
    "# 将其替换为空\n",
    "data = [pattern.sub('', lines) for lines in data]\n",
    "print(data[0])"
   ]
  },
  {
   "cell_type": "code",
   "execution_count": 3,
   "metadata": {},
   "outputs": [
    {
     "name": "stdout",
     "output_type": "stream",
     "text": [
      "　　我的故事，从1950年1月1日讲起。在此之前两年多的时间里，我在阴曹地府里受尽了人间难以想象的 酷刑。每次提审，我都会鸣冤叫屈。我的声音悲壮凄凉，传播到阎罗大殿的每个角落，激发出重重叠叠的 回声。我身受酷刑而绝不改悔，挣得了一个硬汉子的名声。我知道许多鬼卒对我暗中钦佩，我也知道阎王 老子对我不胜厌烦。为了让我认罪服输，他们使出了地狱酷刑中最歹毒的一招，将我扔到沸腾的油锅里， 翻来覆去，像炸一样炸了半个时辰，痛苦之状，难以言表。鬼卒还用叉子把我叉起来，高高举着， 一步步走上通往大殿的台阶。两边的鬼卒嘬口吹哨，如同成群的吸血蝙蝠鸣叫。我的身体滴油淅沥，落在 台阶上，冒出一簇簇黄烟。鬼卒小心翼翼地将我安放在阎罗殿前的青石板上，跪下向阎王报告：“大王 ，炸好了。”\n",
      "\n"
     ]
    }
   ],
   "source": [
    "# 将.....替换为句号\n",
    "data = [line.replace('……', '。') for line in data if len(line) > 1]\n",
    "print(data[0])"
   ]
  },
  {
   "cell_type": "code",
   "execution_count": 4,
   "metadata": {},
   "outputs": [
    {
     "name": "stdout",
     "output_type": "stream",
     "text": [
      "我的故事，从1950年1月1日讲起。在此之前两年多的时间里，我在阴曹地府里受尽了人间难以想象的酷刑。每次提审，我都会鸣冤叫屈。我的声音悲壮凄凉，传播到阎罗大殿的每个角落，激发出重重叠叠的回声。我身受酷\n"
     ]
    }
   ],
   "source": [
    "# ==============判断char是否是乱码===================\n",
    "def is_uchar(uchar):\n",
    "    \"\"\"判断一个unicode是否是汉字\"\"\"\n",
    "    if uchar >= u'\\u4e00' and uchar<=u'\\u9fa5':\n",
    "            return True\n",
    "    \"\"\"判断一个unicode是否是数字\"\"\"\n",
    "    if uchar >= u'\\u0030' and uchar<=u'\\u0039':\n",
    "            return True       \n",
    "    \"\"\"判断一个unicode是否是英文字母\"\"\"\n",
    "    if (uchar >= u'\\u0041' and uchar<=u'\\u005a') or (uchar >= u'\\u0061' and uchar<=u'\\u007a'):\n",
    "            return True\n",
    "    if uchar in ('，','。','：','？','“','”','！','；','、','《','》','——'):\n",
    "            return True\n",
    "    return False\n",
    "\n",
    "# 将每行的list合成一个长字符串\n",
    "data = ''.join(data)\n",
    "data = [char for char in data if is_uchar(char)]\n",
    "data = ''.join(data)\n",
    "print(data[:100])"
   ]
  },
  {
   "cell_type": "markdown",
   "metadata": {},
   "source": [
    "### 3.2 生成字典\n",
    "我们需要将汉字映射为能够输入到模型中的数字信息，就需要建立一个映射关系，需要生成汉字和数字互相映射的字典。"
   ]
  },
  {
   "cell_type": "code",
   "execution_count": 5,
   "metadata": {},
   "outputs": [
    {
     "name": "stdout",
     "output_type": "stream",
     "text": [
      "字典长度: 3892\n"
     ]
    }
   ],
   "source": [
    "# =====生成字典=====\n",
    "vocab = set(data)\n",
    "id2char = list(vocab)\n",
    "char2id = {c:i for i,c in enumerate(vocab)}\n",
    "\n",
    "print('字典长度:', len(vocab))"
   ]
  },
  {
   "cell_type": "markdown",
   "metadata": {},
   "source": [
    "### 3.3 转换输入数据格式\n",
    "建立字典后，将文本数据映射为数字数据形式，并整理为矩阵格式。"
   ]
  },
  {
   "cell_type": "code",
   "execution_count": 6,
   "metadata": {},
   "outputs": [
    {
     "name": "stdout",
     "output_type": "stream",
     "text": [
      "数字数据信息：\n",
      " [ 801 1153  901 2708  752 3693 1255 2756 1876  983 2434 1255  727 1255\n",
      "  413 2309  811 2192  295 1618 1469 1571 2228 2434 1248 1153   73 1204\n",
      " 1975  752  801  295 3086 2303  838 1284 1975 1956 1714  305 3231 1204\n",
      " 1411  214  595 2139 1153 2694 1815 2192 1281  479 3437 1034  752  801\n",
      " 1721    2 2757 2207 3174  920 2192  801 1153 2774  689 2747 3765 2943\n",
      "  759  752  855 3324 3733 2470 3109 2698 1889 1153 1281   35  559 1695\n",
      "  752 1004 2718  625 3417 3417 2900 2900 1153 3127 2774 2192  801  210\n",
      " 1956 2694]\n",
      "\n",
      "文本数据信息：\n",
      " 我的故事，从1950年1月1日讲起。在此之前两年多的时间里，我在阴曹地府里受尽了人间难以想象的酷刑。每次提审，我都会鸣冤叫屈。我的声音悲壮凄凉，传播到阎罗大殿的每个角落，激发出重重叠叠的回声。我身受酷\n"
     ]
    }
   ],
   "source": [
    "import numpy as np\n",
    "# =====转换数据为数字格式======\n",
    "numdata = [char2id[char] for char in data]\n",
    "numdata = np.array(numdata)\n",
    "\n",
    "print('数字数据信息：\\n', numdata[:100])\n",
    "print('\\n文本数据信息：\\n', ''.join([id2char[i] for i in numdata[:100]]))"
   ]
  },
  {
   "cell_type": "markdown",
   "metadata": {},
   "source": [
    "### 3.4 设计数据生成器\n",
    "这篇文章有几十万个字："
   ]
  },
  {
   "cell_type": "code",
   "execution_count": 7,
   "metadata": {},
   "outputs": [
    {
     "name": "stdout",
     "output_type": "stream",
     "text": [
      "377480\n"
     ]
    }
   ],
   "source": [
    "print(len(data))"
   ]
  },
  {
   "cell_type": "code",
   "execution_count": 21,
   "metadata": {},
   "outputs": [
    {
     "name": "stdout",
     "output_type": "stream",
     "text": [
      "input data: [ 801 1153  901 2708  752] \n",
      "output data: [1153  901 2708  752 3693]\n"
     ]
    }
   ],
   "source": [
    "# =======设计数据生成器=========\n",
    "def data_generator(data, batch_size, time_stpes):\n",
    "\tsamples_per_batch = batch_size * time_stpes\n",
    "\tbatch_nums = len(data) // samples_per_batch\n",
    "\tdata = data[:batch_nums*samples_per_batch]\n",
    "\tdata = data.reshape((batch_size, batch_nums, time_stpes))\n",
    "\tfor i in range(batch_nums):\n",
    "\t\tx = data[:, i, :]\n",
    "\t\ty = np.zeros_like(x)\n",
    "\t\ty[:, :-1] = x[:, 1:]\n",
    "\t\ttry:\n",
    "\t\t\ty[:, -1] = data[:, i+1, 0]\n",
    "\t\texcept:\n",
    "\t\t\ty[:, -1] = data[:, 0, 0]\n",
    "\t\tyield x, y\n",
    "\n",
    "# 打印输出数据\n",
    "data_batch = data_generator(numdata, 2, 5)\n",
    "x, y = next(data_batch)\n",
    "print('input data:', x[0], '\\noutput data:', y[0])"
   ]
  },
  {
   "cell_type": "code",
   "execution_count": null,
   "metadata": {},
   "outputs": [],
   "source": [
    "# 将y转化为onehot格式\n",
    "def onehot(y):\n",
    "\ty_onehot = np.zeros(shape=(y.shape[0], y.shape[1], VOCAB_SIZE))\n",
    "\tfor i in range(y.shape[0]):\n",
    "\t\tfor j in range(y.shape[1]):\n",
    "\t\t\ty_onehot[i][j][y[i][j]] = 1\n",
    "\treturn y_onehot\n",
    "print('y:', y)\n",
    "y = onehot(y)\n",
    "print('onehot:', y)"
   ]
  },
  {
   "attachments": {
    "image.png": {
     "image/png": "[encoded data removed]"
    }
   },
   "cell_type": "markdown",
   "metadata": {},
   "source": [
    "## 4. 模型选择与建模\n",
    "我们选择rnn来作为文本生成模型结构如下：\n",
    "![image.png](attachment:image.png)\n",
    "我们选择lstm来做为其中的隐藏层：\n",
    "![image.png](attachment:image.png)\n",
    "### 4.1 使用keras进行建模："
   ]
  },
  {
   "cell_type": "code",
   "execution_count": 17,
   "metadata": {},
   "outputs": [],
   "source": [
    "from keras.models import Model\n",
    "from keras.layers import Input, LSTM, Dense, Dropout, Embedding\n",
    "from keras import regularizers\n",
    "from keras.optimizers import Adam\n",
    "import numpy as np\n",
    "# ====================================搭建模型===================================\n",
    "class RNNModel():\n",
    "    \"\"\"docstring for RNNModel\"\"\"\n",
    "    def __init__(self, BATCH_SIZE, HIDDEN_SIZE, HIDDEN_LAYERS, VOCAB_SIZE):\n",
    "        inputs = Input(shape=(None,))\n",
    "        emb_inp = Embedding(output_dim=HIDDEN_SIZE, input_dim=VOCAB_SIZE, input_length=None)(inputs)\n",
    "        for i in range(HIDDEN_LAYERS):\n",
    "            emb_inp = LSTM(HIDDEN_SIZE, activation='relu', return_sequences=True, dropout=0.2)(emb_inp)\n",
    "        output = Dense(VOCAB_SIZE, activation='softmax', kernel_regularizer=regularizers.l2(0.01))(emb_inp)\n",
    "        model = Model(inputs=inputs, outputs=output)\n",
    "\n",
    "        # ============训练所需损失函数==========\n",
    "        opt = Adam(lr=0.003, beta_1=0.9, beta_2=0.999, epsilon=1e-08)\n",
    "        model.compile(optimizer=opt, loss='categorical_crossentropy', metrics=['accuracy'])\n",
    "        model.summary()\n",
    "        self.model = model\n",
    "        \n",
    "    def train(self, x, y):\n",
    "        \n",
    "        self.model.fit(x, y)\n",
    "    \n",
    "    def test(self, x_initial):\n",
    "        x_test = x_initial\n",
    "        for i in range(100):\n",
    "            y_pre = self.model.predict(x_test)\n",
    "            index = np.argmax(y_pre, 2)\n",
    "            x_test = np.concatenate((x_initial, index), axis=1)\n",
    "        x_test = np.reshape(x_test, (-1,))\n",
    "        print(''.join([id2char[i] for i in x_test]))"
   ]
  },
  {
   "cell_type": "markdown",
   "metadata": {},
   "source": [
    "### 4.2 定义训练参数及模型参数："
   ]
  },
  {
   "cell_type": "code",
   "execution_count": 18,
   "metadata": {},
   "outputs": [],
   "source": [
    "VOCAB_SIZE = len(id2char)\n",
    "EPOCHS = 50\n",
    "BATCH_SIZE = 8\n",
    "TIME_STEPS = 100\n",
    "BATCH_NUMS = len(numdata) // (BATCH_SIZE * TIME_STEPS)\n",
    "HIDDEN_SIZE = 512\n",
    "HIDDEN_LAYERS = 2\n",
    "MAX_GRAD_NORM = 1\n",
    "learning_rate = 0.003"
   ]
  },
  {
   "cell_type": "markdown",
   "metadata": {},
   "source": [
    "### 4.3 模型训练和测试"
   ]
  },
  {
   "cell_type": "code",
   "execution_count": 20,
   "metadata": {},
   "outputs": [
    {
     "name": "stdout",
     "output_type": "stream",
     "text": [
      "_________________________________________________________________\n",
      "Layer (type)                 Output Shape              Param #   \n",
      "=================================================================\n",
      "input_4 (InputLayer)         (None, None)              0         \n",
      "_________________________________________________________________\n",
      "embedding_4 (Embedding)      (None, None, 512)         1992704   \n",
      "_________________________________________________________________\n",
      "lstm_7 (LSTM)                (None, None, 512)         2099200   \n",
      "_________________________________________________________________\n",
      "lstm_8 (LSTM)                (None, None, 512)         2099200   \n",
      "_________________________________________________________________\n",
      "dense_4 (Dense)              (None, None, 3892)        1996596   \n",
      "=================================================================\n",
      "Total params: 8,187,700\n",
      "Trainable params: 8,187,700\n",
      "Non-trainable params: 0\n",
      "_________________________________________________________________\n",
      "Epoch 1/1\n",
      "2/2 [==============================] - 4s 2s/step - loss: 17.3067 - acc: 0.0000e+00\n",
      "稚，。。。，，的。，的。，的，的的。，，的的。，的，的的。，，的的。，的，的的。，，的的。，的，的的。，，的的。，的，的的。，，的的。，的，的的。，，的的。，的，的的。，，的的。，的，的的。，，的的。，\n"
     ]
    }
   ],
   "source": [
    "data_batch = data_generator(numdata, BATCH_SIZE, TIME_STEPS)\n",
    "novel = RNNModel(BATCH_SIZE, HIDDEN_SIZE, HIDDEN_LAYERS, VOCAB_SIZE)\n",
    "for i in range(BATCH_NUMS):\n",
    "    x, y = next(data_batch)\n",
    "    y = onehot(y)\n",
    "    novel.train(x, y)\n",
    "\n",
    "x_initial = np.zeros((1,1), dtype=int) + 8\n",
    "novel.test(x_initial)"
   ]
  },
  {
   "cell_type": "code",
   "execution_count": null,
   "metadata": {},
   "outputs": [],
   "source": []
  }
 ],
 "metadata": {
  "kernelspec": {
   "display_name": "Python 3",
   "language": "python",
   "name": "python3"
  },
  "language_info": {
   "codemirror_mode": {
    "name": "ipython",
    "version": 3
   },
   "file_extension": ".py",
   "mimetype": "text/x-python",
   "name": "python",
   "nbconvert_exporter": "python",
   "pygments_lexer": "ipython3",
   "version": "3.6.5"
  }
 },
 "nbformat": 4,
 "nbformat_minor": 2
}
